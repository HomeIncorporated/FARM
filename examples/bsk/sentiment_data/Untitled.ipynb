{
 "cells": [
  {
   "cell_type": "code",
   "execution_count": 1,
   "metadata": {},
   "outputs": [],
   "source": [
    "import pandas as pd\n"
   ]
  },
  {
   "cell_type": "code",
   "execution_count": 3,
   "metadata": {},
   "outputs": [],
   "source": [
    "germeval = pd.read_csv(\"germeval-17/train_normalized.tsv\", sep=\"\\t\")\n",
    "semeval = pd.read_csv(\"semeval-17/dev_train.tsv\", sep=\"\\t\")"
   ]
  },
  {
   "cell_type": "code",
   "execution_count": 4,
   "metadata": {},
   "outputs": [
    {
     "data": {
      "text/html": [
       "<div>\n",
       "<style scoped>\n",
       "    .dataframe tbody tr th:only-of-type {\n",
       "        vertical-align: middle;\n",
       "    }\n",
       "\n",
       "    .dataframe tbody tr th {\n",
       "        vertical-align: top;\n",
       "    }\n",
       "\n",
       "    .dataframe thead th {\n",
       "        text-align: right;\n",
       "    }\n",
       "</style>\n",
       "<table border=\"1\" class=\"dataframe\">\n",
       "  <thead>\n",
       "    <tr style=\"text-align: right;\">\n",
       "      <th></th>\n",
       "      <th>url</th>\n",
       "      <th>text</th>\n",
       "      <th>relevance</th>\n",
       "      <th>sentiment</th>\n",
       "      <th>aspect</th>\n",
       "    </tr>\n",
       "  </thead>\n",
       "  <tbody>\n",
       "    <tr>\n",
       "      <th>0</th>\n",
       "      <td>http://twitter.com/reneesa\\_devin/statuses/628...</td>\n",
       "      <td>@DB_Bahn ja, weil in Wuppertal Bauarbeiten sin...</td>\n",
       "      <td>True</td>\n",
       "      <td>neutral</td>\n",
       "      <td>Allgemein#Haupt:neutral</td>\n",
       "    </tr>\n",
       "    <tr>\n",
       "      <th>1</th>\n",
       "      <td>http://twitter.com/MrElch/statuses/68737328126...</td>\n",
       "      <td>@nordschaf theoretisch kannste dir überall im ...</td>\n",
       "      <td>True</td>\n",
       "      <td>positive</td>\n",
       "      <td>Zugfahrt#Streckennetz:positive Zugfahrt#Fahrtz...</td>\n",
       "    </tr>\n",
       "    <tr>\n",
       "      <th>2</th>\n",
       "      <td>http://twitter.com/wolfi\\_wiese/statuses/64924...</td>\n",
       "      <td>Bahn verspätet sich..gleich kommt noch jemand ...</td>\n",
       "      <td>True</td>\n",
       "      <td>negative</td>\n",
       "      <td>Zugfahrt#Pünktlichkeit:negative</td>\n",
       "    </tr>\n",
       "    <tr>\n",
       "      <th>3</th>\n",
       "      <td>http://wirtschaftsnachrichten-online.de/2015/1...</td>\n",
       "      <td>Ihre Anfragen brachten uns zu neuen Leistungen...</td>\n",
       "      <td>False</td>\n",
       "      <td>neutral</td>\n",
       "      <td>NaN</td>\n",
       "    </tr>\n",
       "    <tr>\n",
       "      <th>4</th>\n",
       "      <td>http://community.bahn.de/questions/1034649-db-...</td>\n",
       "      <td>Kann ich mit dem DB Geschenk Ticket den ICE Sp...</td>\n",
       "      <td>True</td>\n",
       "      <td>neutral</td>\n",
       "      <td>Allgemein#Haupt:neutral</td>\n",
       "    </tr>\n",
       "  </tbody>\n",
       "</table>\n",
       "</div>"
      ],
      "text/plain": [
       "                                                 url  \\\n",
       "0  http://twitter.com/reneesa\\_devin/statuses/628...   \n",
       "1  http://twitter.com/MrElch/statuses/68737328126...   \n",
       "2  http://twitter.com/wolfi\\_wiese/statuses/64924...   \n",
       "3  http://wirtschaftsnachrichten-online.de/2015/1...   \n",
       "4  http://community.bahn.de/questions/1034649-db-...   \n",
       "\n",
       "                                                text  relevance sentiment  \\\n",
       "0  @DB_Bahn ja, weil in Wuppertal Bauarbeiten sin...       True   neutral   \n",
       "1  @nordschaf theoretisch kannste dir überall im ...       True  positive   \n",
       "2  Bahn verspätet sich..gleich kommt noch jemand ...       True  negative   \n",
       "3  Ihre Anfragen brachten uns zu neuen Leistungen...      False   neutral   \n",
       "4  Kann ich mit dem DB Geschenk Ticket den ICE Sp...       True   neutral   \n",
       "\n",
       "                                              aspect  \n",
       "0                            Allgemein#Haupt:neutral  \n",
       "1  Zugfahrt#Streckennetz:positive Zugfahrt#Fahrtz...  \n",
       "2                    Zugfahrt#Pünktlichkeit:negative  \n",
       "3                                                NaN  \n",
       "4                            Allgemein#Haupt:neutral  "
      ]
     },
     "execution_count": 4,
     "metadata": {},
     "output_type": "execute_result"
    }
   ],
   "source": [
    "germeval.head()"
   ]
  },
  {
   "cell_type": "markdown",
   "metadata": {},
   "source": [
    "semeval.head()"
   ]
  },
  {
   "cell_type": "code",
   "execution_count": 5,
   "metadata": {},
   "outputs": [
    {
     "data": {
      "text/html": [
       "<div>\n",
       "<style scoped>\n",
       "    .dataframe tbody tr th:only-of-type {\n",
       "        vertical-align: middle;\n",
       "    }\n",
       "\n",
       "    .dataframe tbody tr th {\n",
       "        vertical-align: top;\n",
       "    }\n",
       "\n",
       "    .dataframe thead th {\n",
       "        text-align: right;\n",
       "    }\n",
       "</style>\n",
       "<table border=\"1\" class=\"dataframe\">\n",
       "  <thead>\n",
       "    <tr style=\"text-align: right;\">\n",
       "      <th></th>\n",
       "      <th>tweet_id</th>\n",
       "      <th>sentiment</th>\n",
       "      <th>text</th>\n",
       "    </tr>\n",
       "  </thead>\n",
       "  <tbody>\n",
       "    <tr>\n",
       "      <th>0</th>\n",
       "      <td>638060586258038784</td>\n",
       "      <td>neutral</td>\n",
       "      <td>05 Beat it - Michael Jackson - Thriller (25th ...</td>\n",
       "    </tr>\n",
       "    <tr>\n",
       "      <th>1</th>\n",
       "      <td>638061181823922176</td>\n",
       "      <td>positive</td>\n",
       "      <td>Jay Z joins Instagram with nostalgic tribute t...</td>\n",
       "    </tr>\n",
       "    <tr>\n",
       "      <th>2</th>\n",
       "      <td>638083821364244480</td>\n",
       "      <td>neutral</td>\n",
       "      <td>Michael Jackson: Bad 25th Anniversary Edition ...</td>\n",
       "    </tr>\n",
       "    <tr>\n",
       "      <th>3</th>\n",
       "      <td>638091450132078593</td>\n",
       "      <td>positive</td>\n",
       "      <td>I liked a @YouTube video http://t.co/AaR3pjp2P...</td>\n",
       "    </tr>\n",
       "    <tr>\n",
       "      <th>4</th>\n",
       "      <td>638125563790557184</td>\n",
       "      <td>positive</td>\n",
       "      <td>18th anniv of Princess Diana's death. I still ...</td>\n",
       "    </tr>\n",
       "  </tbody>\n",
       "</table>\n",
       "</div>"
      ],
      "text/plain": [
       "             tweet_id sentiment  \\\n",
       "0  638060586258038784   neutral   \n",
       "1  638061181823922176  positive   \n",
       "2  638083821364244480   neutral   \n",
       "3  638091450132078593  positive   \n",
       "4  638125563790557184  positive   \n",
       "\n",
       "                                                text  \n",
       "0  05 Beat it - Michael Jackson - Thriller (25th ...  \n",
       "1  Jay Z joins Instagram with nostalgic tribute t...  \n",
       "2  Michael Jackson: Bad 25th Anniversary Edition ...  \n",
       "3  I liked a @YouTube video http://t.co/AaR3pjp2P...  \n",
       "4  18th anniv of Princess Diana's death. I still ...  "
      ]
     },
     "execution_count": 5,
     "metadata": {},
     "output_type": "execute_result"
    }
   ],
   "source": [
    "semeval.head()"
   ]
  },
  {
   "cell_type": "code",
   "execution_count": 10,
   "metadata": {},
   "outputs": [
    {
     "data": {
      "text/plain": [
       "neutral     0.691069\n",
       "negative    0.250635\n",
       "positive    0.058296\n",
       "Name: sentiment, dtype: float64"
      ]
     },
     "execution_count": 10,
     "metadata": {},
     "output_type": "execute_result"
    }
   ],
   "source": [
    "germeval[\"sentiment\"].value_counts(normalize=True)"
   ]
  },
  {
   "cell_type": "code",
   "execution_count": 11,
   "metadata": {},
   "outputs": [
    {
     "data": {
      "text/plain": [
       "neutral     0.449294\n",
       "positive    0.394937\n",
       "negative    0.155769\n",
       "Name: sentiment, dtype: float64"
      ]
     },
     "execution_count": 11,
     "metadata": {},
     "output_type": "execute_result"
    }
   ],
   "source": [
    "semeval[\"sentiment\"].value_counts(normalize=True)"
   ]
  },
  {
   "cell_type": "code",
   "execution_count": null,
   "metadata": {},
   "outputs": [],
   "source": []
  }
 ],
 "metadata": {
  "kernelspec": {
   "display_name": "Python 3",
   "language": "python",
   "name": "python3"
  },
  "language_info": {
   "codemirror_mode": {
    "name": "ipython",
    "version": 3
   },
   "file_extension": ".py",
   "mimetype": "text/x-python",
   "name": "python",
   "nbconvert_exporter": "python",
   "pygments_lexer": "ipython3",
   "version": "3.7.2"
  }
 },
 "nbformat": 4,
 "nbformat_minor": 2
}
