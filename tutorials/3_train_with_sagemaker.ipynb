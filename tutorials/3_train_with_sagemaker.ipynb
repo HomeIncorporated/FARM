{
 "cells": [
  {
   "cell_type": "markdown",
   "metadata": {},
   "source": [
    "## Training Models with AWS SageMaker\n",
    "\n",
    "SageMaker is a managed service to train and deploy ML models. This tutorial is a quickstart guide to train models on SageMaker with FARM.\n",
    "\n",
    "### Prerequisites\n",
    "* AWS IAM Role with access to SageMaker and S3.\n",
    "* A training script that needs to be executed. You can find examples at https://github.com/deepset-ai/FARM/tree/master/examples.\n",
    "* A directory containing at least a `requirements.txt` file with the dependencies(including FARM) for running the training script. \n",
    "* Cleaned/processed training data uploaded to a S3 bucket."
   ]
  },
  {
   "cell_type": "code",
   "execution_count": 1,
   "metadata": {},
   "outputs": [],
   "source": [
    "from sagemaker.pytorch.estimator import PyTorch"
   ]
  },
  {
   "cell_type": "code",
   "execution_count": null,
   "metadata": {},
   "outputs": [],
   "source": [
    "role = \"arn:aws:iam::xxxxxxxxxxxx:role/service-role/AmazonSageMaker-ExecutionRole-20191204Txxxxxx\""
   ]
  },
  {
   "cell_type": "markdown",
   "metadata": {},
   "source": [
    "`Estimator` class is a high level abstraction for handling the training task on SageMaker. `PyTorch` Estimator builds a container with a specific version of PyTorch, install dependencies as supplied in the `source_dir`, and executes the training script as specified by `entry_point`. "
   ]
  },
  {
   "cell_type": "code",
   "execution_count": null,
   "metadata": {},
   "outputs": [],
   "source": [
    "estimator = PyTorch(    \n",
    "    entry_point=\"<path_to_train_script>\",\n",
    "    source_dir=\"<path>\",  # the dir contains the requirements.txt file\n",
    "    framework_version=\"1.3.1\", # PyTorch version\n",
    "    train_instance_count=1,\n",
    "    train_instance_type=\"ml.p3.8xlarge\",\n",
    "    role=role  # IAM role to assume for execution\n",
    ")"
   ]
  },
  {
   "cell_type": "markdown",
   "metadata": {},
   "source": [
    "The `fit()` methods starts a training job. It takes the S3 path of the train data as an argument. `wait` argument specifies whether the call should wait for the training job to finish."
   ]
  },
  {
   "cell_type": "code",
   "execution_count": null,
   "metadata": {},
   "outputs": [],
   "source": [
    "estimator.fit(inputs = {\"train\": \"s3://<path-to-train-data>\"}, wait=False)"
   ]
  }
 ],
 "metadata": {
  "kernelspec": {
   "display_name": "Python 3",
   "language": "python",
   "name": "python3"
  },
  "language_info": {
   "codemirror_mode": {
    "name": "ipython",
    "version": 3
   },
   "file_extension": ".py",
   "mimetype": "text/x-python",
   "name": "python",
   "nbconvert_exporter": "python",
   "pygments_lexer": "ipython3",
   "version": "3.7.3"
  },
  "pycharm": {
   "stem_cell": {
    "cell_type": "raw",
    "source": [],
    "metadata": {
     "collapsed": false
    }
   }
  }
 },
 "nbformat": 4,
 "nbformat_minor": 2
}